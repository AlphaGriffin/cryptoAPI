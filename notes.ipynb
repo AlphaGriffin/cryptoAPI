{
 "cells": [
  {
   "cell_type": "markdown",
   "metadata": {
    "cell_style": "split"
   },
   "source": [
    "TODO!\n",
    "Setup data for a google sheets output\n",
    "setup data for a twitter sentiment grab\n",
    "graph all results"
   ]
  },
  {
   "cell_type": "code",
   "execution_count": 1,
   "metadata": {
    "cell_style": "split"
   },
   "outputs": [],
   "source": [
    "%config IPCompleter.greedy=True"
   ]
  },
  {
   "cell_type": "code",
   "execution_count": 2,
   "metadata": {
    "cell_style": "split"
   },
   "outputs": [],
   "source": [
    "import os, sys, collections, time, datetime\n",
    "from IPython.display import Image as IpyImage\n",
    "from PIL import Image\n",
    "import requests\n",
    "from io import BytesIO\n",
    "# cryptostuffs\n",
    "import ccxt\n",
    "import cryptocompare as cc\n",
    "# my stuffs\n",
    "import options\n",
    "import printer # i guess this example doesnt *need* this..."
   ]
  },
  {
   "cell_type": "code",
   "execution_count": null,
   "metadata": {
    "cell_style": "split"
   },
   "outputs": [],
   "source": [
    "# Dataset holders for infos\n",
    "_dataset        = collections.defaultdict(dict)\n",
    "betterset       = collections.defaultdict(dict)"
   ]
  },
  {
   "cell_type": "code",
   "execution_count": null,
   "metadata": {
    "cell_style": "split"
   },
   "outputs": [],
   "source": [
    "# Add into this list the API keys for your exchanges\n",
    "P(\"Setting up Exchanges: One at a time.\")\n",
    "get_exchanges = ['binance', \n",
    "                 'poloniex', \n",
    "                 'cryptopia',\n",
    "                 'hitbtc',\n",
    "                 'bitmex',\n",
    "                 'ccex',\n",
    "                 'bittrex']"
   ]
  },
  {
   "cell_type": "code",
   "execution_count": null,
   "metadata": {
    "cell_style": "split"
   },
   "outputs": [],
   "source": [
    "def setup_exchange(this_exchange=\"binance\", dataset=None):\n",
    "    \"\"\"\n",
    "    This should go through each exchange available all at once and\n",
    "    assign the everything to the data structure properly.\n",
    "    \"\"\"\n",
    "    dataset[this_exchange]['ex_id'] = this_exchange\n",
    "    exchange_connect = eval(\"ccxt.{}()\".format(this_exchange))\n",
    "    dataset[this_exchange]['app'] = exchange_connect\n",
    "    exchange_connect.apiKey = eval(\"config.{}_api\".format(this_exchange))\n",
    "    exchange_connect.secret = eval(\"config.{}_secret\".format(this_exchange))\n",
    "    balances = {}\n",
    "    try:\n",
    "        balance = exchange_connect.fetch_balance()\n",
    "    except:\n",
    "        print(\"{} is Offline\".format(this_exchange))\n",
    "        return None\n",
    "    for x in balance['total']:\n",
    "        if float(balance['total'][x]) > 0:\n",
    "            balances[x] = balance['total'][x]\n",
    "            try:\n",
    "                dataset['coins'][x] += '{}, '.format(this_exchange)\n",
    "            except:\n",
    "                dataset['coins'][x] = '{}, '.format(this_exchange)\n",
    "    dataset[this_exchange]['balances'] = balances\n",
    "    # get the ticker\n",
    "    try:\n",
    "        ticker = exchange_connect.fetch_tickers()\n",
    "        dataset[this_exchange]['ticker'] = ticker\n",
    "    except Exception as e:\n",
    "        dataset[this_exchange]['ticker'] = None     \n",
    "    return exchange_connect"
   ]
  },
  {
   "cell_type": "code",
   "execution_count": null,
   "metadata": {
    "cell_style": "split"
   },
   "outputs": [],
   "source": [
    "# Copy dummy.yaml to config.yaml | OR | add in your custom path to the dummy.yaml\n",
    "# AND add in your API keys\n",
    "config = options.Options(\"../../access/access_codes.yaml\")\n",
    "P = printer.Printer(config).no_size_printer\n",
    "msg = \"| AG INDEX | {}\".format(datetime.datetime.now())\n",
    "P(msg)\n",
    "if False:\n",
    "    # print some goods\n",
    "    P(\"Config\")\n",
    "    print(config)"
   ]
  },
  {
   "cell_type": "code",
   "execution_count": null,
   "metadata": {
    "cell_style": "split"
   },
   "outputs": [],
   "source": [
    "# Get Master Balance\n",
    "def get_balances(dataset):\n",
    "    \"\"\"Create Subset of Master Balance.\"\"\"\n",
    "    balances = {}\n",
    "    for x in dataset:\n",
    "        if 'coins' not in x:\n",
    "            # print(\"Checking Balance on {}\".format(str(x).upper()))\n",
    "            try:\n",
    "                for i in dataset[x]['balances']:\n",
    "                    try:\n",
    "                        balances[i] += float(dataset[x]['balances'][i])\n",
    "                    except:\n",
    "                        balances[i] = float(dataset[x]['balances'][i])\n",
    "            except:\n",
    "                print(\"Exchange: {} shows no balance!\".format(x))\n",
    "    return balances"
   ]
  },
  {
   "cell_type": "code",
   "execution_count": null,
   "metadata": {
    "cell_style": "split"
   },
   "outputs": [],
   "source": [
    "def get_imgs(dataset):\n",
    "    url = base_url + x['BTC']['ImageUrl']\n",
    "    response = requests.get(url)\n",
    "    img = Image.open(BytesIO(response.content))\n",
    "    IpyImage(img)\n",
    "    return True"
   ]
  },
  {
   "cell_type": "code",
   "execution_count": null,
   "metadata": {
    "cell_style": "split"
   },
   "outputs": [],
   "source": [
    "# get Basic coin data for all coins\n",
    "if False:\n",
    "    all_coin_data   = cc.get_coin_list(format=False)"
   ]
  },
  {
   "cell_type": "code",
   "execution_count": null,
   "metadata": {
    "cell_style": "split"
   },
   "outputs": [],
   "source": [
    "# binance is not working...\n",
    "if True:\n",
    "    my_exchanges_ = []\n",
    "    for i in get_exchanges:\n",
    "        x = setup_exchange(i, _dataset)\n",
    "        my_exchanges_.append(x)\n",
    "    print(my_exchanges_)"
   ]
  },
  {
   "cell_type": "code",
   "execution_count": null,
   "metadata": {
    "cell_style": "split"
   },
   "outputs": [],
   "source": [
    "my_balances = get_balances(_dataset)\n",
    "print(my_balances)"
   ]
  },
  {
   "cell_type": "code",
   "execution_count": null,
   "metadata": {
    "cell_style": "split"
   },
   "outputs": [],
   "source": [
    "my_coin_data    = cc.get_price([coin for coin in my_balances if not None], curr='USD', full=True)"
   ]
  },
  {
   "cell_type": "code",
   "execution_count": null,
   "metadata": {
    "cell_style": "split"
   },
   "outputs": [],
   "source": [
    "# GET TOTALS FROM cryptocompare.com\n",
    "if False:\n",
    "    total_usd = 0\n",
    "    for coin in my_coin_data['DISPLAY']:\n",
    "        exchanges = [i for i in _dataset['coins'][coin].split(',')]\n",
    "        P(); P(\"{}\".format(coin)); P()\n",
    "        if False:\n",
    "            for stat in my_coin_data['DISPLAY'][coin]['USD']:\n",
    "                P(\"{}: {}\".format(str(stat).lower(), my_coin_data['DISPLAY'][coin]['USD'][stat]))\n",
    "        data = my_coin_data['DISPLAY'][coin]['USD']\n",
    "        bal = my_balances[coin]\n",
    "        cur_price = my_coin_data['RAW'][coin]['USD']['price'.upper()]\n",
    "        vol24 = my_coin_data['RAW'][coin]['USD']['volume24hour'.upper()]\n",
    "        change_pct = my_coin_data['RAW'][coin]['USD']['changepct24hour'.upper()]\n",
    "        usd_value = float(bal) * float(cur_price)\n",
    "        P(\"Exchanges: {}\".format(exchanges[:-1]))\n",
    "        P(\"Balance: {:.8f}\".format(bal))\n",
    "        P(\"Current Price: {:.8f}\".format(cur_price))\n",
    "        # P(\"Volume 24: {:.2f}\".format(vol24))\n",
    "        # P(\"Change 24: {:.2f}\".format(change_pct))\n",
    "        P(\"Current USD Value: {:.2f}\".format(usd_value)) \n",
    "        total_usd += usd_value\n",
    "    P()\n",
    "    P(\"Total USD(WRONG!): {:.2f}\".format(total_usd)); P()"
   ]
  },
  {
   "cell_type": "code",
   "execution_count": null,
   "metadata": {
    "cell_style": "split"
   },
   "outputs": [],
   "source": [
    "# list coins and exchanges\n",
    "if False:\n",
    "    for coin in my_balances:\n",
    "        exchanges_ = []\n",
    "        for i in _dataset['coins'][coin].split(','):\n",
    "            exchanges_.append(i)\n",
    "        P(\"{} is traded on these Exchanges {}\".format(coin, exchanges_[:-1]))"
   ]
  },
  {
   "cell_type": "code",
   "execution_count": null,
   "metadata": {
    "cell_style": "split"
   },
   "outputs": [],
   "source": [
    "# GET THE TOTALS from the tickers\n",
    "for exchange in reversed(my_exchanges_):\n",
    "    print(\"Checking coins against exchange:\", exchange.id)\n",
    "    for coin in my_balances: \n",
    "        if coin is not None:\n",
    "            betterset[coin]['bal'] = my_balances[coin]\n",
    "            try:\n",
    "                # if we have good data on this coin... just move on for now...\n",
    "                if betterset[coin]['found']:\n",
    "                    print(\"already have coin: \", coin)\n",
    "                    pass;\n",
    "            except:\n",
    "                if not 'BTC' in coin:\n",
    "                    pair = '{}/BTC'.format(coin)\n",
    "                else:\n",
    "                    pair = '{}/USDT'.format(coin)\n",
    "                # Search the Local Directory First then search invidually\n",
    "                try:\n",
    "                    for pairs in _dataset[exchange]['ticker']:\n",
    "                        if pair in pairs:\n",
    "                            subset = _dataset[exchange]['ticker']\n",
    "\n",
    "                except:\n",
    "                    # Not Found in Local Directory\n",
    "                    print(\"Looking up coin: {}, for pair {} on exchange {}\".format(coin, pair, exchange.id))\n",
    "                    try:\n",
    "                        subset = exchange.fetchTicker(pair)\n",
    "                        time.sleep(2)\n",
    "                    except:\n",
    "                        pass;\n",
    "                #//////////////////////////////////////////////////////\n",
    "                try:\n",
    "                    if subset:\n",
    "                        betterset[coin]['pair'] = pair\n",
    "                        betterset[coin]['high'] = subset['high']\n",
    "                        betterset[coin]['low'] = subset['low']\n",
    "                        betterset[coin]['last'] = subset['last']\n",
    "                        betterset[coin]['change'] = subset['change']\n",
    "                        betterset[coin]['ex_id'] = exchange.id\n",
    "                        betterset[coin]['found'] = True\n",
    "                        print(\"{} Found!\".format(coin))\n",
    "                        subset = None\n",
    "                except:\n",
    "                    pass;"
   ]
  },
  {
   "cell_type": "code",
   "execution_count": null,
   "metadata": {
    "cell_style": "split",
    "scrolled": true
   },
   "outputs": [],
   "source": [
    "# LETS LOOK THROUGH OUR CAREFULLY PARSED DATA!!\n",
    "btc_price = betterset['BTC']['last']\n",
    "total_btc_val = 0\n",
    "total_usd_val = 0\n",
    "for i in sorted(betterset):\n",
    "    if 'BTC' not in i:\n",
    "        try:\n",
    "            P(i)\n",
    "            P('Balance: {:.8f}'.format(betterset[i]['bal']))\n",
    "            P('Current BTC Price: {:.8f}'.format(betterset[i]['last']))\n",
    "            cur_btc_val = float(betterset[i]['bal']) * float(betterset[i]['last'])\n",
    "            total_btc_val += cur_btc_val\n",
    "            P('Current {} Balance Value: {:.8f}'.format(betterset[i]['pair'][-3:], cur_btc_val))\n",
    "        except:\n",
    "            pass\n",
    "P()\n",
    "P('Total BTC Value: {:.8f}'.format(total_btc_val))\n",
    "total_usd_val = float(btc_price) * total_btc_val\n",
    "P('Total USD Value: {:.2f} $'.format(total_usd_val))\n",
    "P()"
   ]
  },
  {
   "cell_type": "code",
   "execution_count": null,
   "metadata": {},
   "outputs": [],
   "source": []
  }
 ],
 "metadata": {
  "kernelspec": {
   "display_name": "Python 3",
   "language": "python",
   "name": "python3"
  },
  "language_info": {
   "codemirror_mode": {
    "name": "ipython",
    "version": 3
   },
   "file_extension": ".py",
   "mimetype": "text/x-python",
   "name": "python",
   "nbconvert_exporter": "python",
   "pygments_lexer": "ipython3",
   "version": "3.6.3"
  },
  "varInspector": {
   "cols": {
    "lenName": 16,
    "lenType": 16,
    "lenVar": 40
   },
   "kernels_config": {
    "python": {
     "delete_cmd_postfix": "",
     "delete_cmd_prefix": "del ",
     "library": "var_list.py",
     "varRefreshCmd": "print(var_dic_list())"
    },
    "r": {
     "delete_cmd_postfix": ") ",
     "delete_cmd_prefix": "rm(",
     "library": "var_list.r",
     "varRefreshCmd": "cat(var_dic_list()) "
    }
   },
   "types_to_exclude": [
    "module",
    "function",
    "builtin_function_or_method",
    "instance",
    "_Feature"
   ],
   "window_display": false
  }
 },
 "nbformat": 4,
 "nbformat_minor": 2
}
